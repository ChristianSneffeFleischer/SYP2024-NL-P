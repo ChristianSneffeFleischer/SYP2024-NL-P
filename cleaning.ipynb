{
 "cells": [
  {
   "cell_type": "code",
   "execution_count": 3,
   "metadata": {},
   "outputs": [],
   "source": [
    "import pandas as pd\n",
    "\n",
    "df = pd.read_csv(\"90min_data.csv\")"
   ]
  },
  {
   "cell_type": "code",
   "execution_count": null,
   "metadata": {},
   "outputs": [],
   "source": [
    "un = df[\"Content\"]"
   ]
  },
  {
   "cell_type": "code",
   "execution_count": 32,
   "metadata": {},
   "outputs": [
    {
     "name": "stdout",
     "output_type": "stream",
     "text": [
      "Unique characters in the column: {'m', '\\x96', '\\x9b', '¥', 'l', 'v', '8', 'o', 'ã', 'A', 'X', 'r', ';', 'R', '\\x90', '7', '¤', '·', 'H', '\\x98', '(', 'è', '.', 'Ä', '£', 'Q', '>', '¯', 'N', 'Î', '\\x92', 'Ù', '\\xa0', 'K', '\\x9c', '³', 'Â', '\\x8f', '»', 'b', 'n', '«', ' ', '[', 'T', \"'\", '\\n', 'Ì', 'Ú', '¿', '\\x83', 'k', '¶', 'â', 'E', 'i', '±', '\\x8b', '°', '\\x9d', 'Å', '\\x88', 'O', ')', '\\x9e', '\\x91', '@', 'µ', 'F', 'I', '\\x81', '/', 'q', 'ï', 'Ï', '0', '\\xad', 'Z', '\\x87', 'z', 'e', 'f', '=', '5', '6', '¾', '!', 'Ø', '²', 'V', 'S', 'U', '\"', '<', 'L', 'Ð', 'Ñ', '\\x86', 't', '1', '&', '©', 's', '?', '}', 'å', 'p', 'Ã', '$', 'ð', '\\x9f', '%', '~', 'D', 'C', '\\x9a', ',', 'd', '¸', '\\x89', 'P', '§', '\\x94', '*', '¹', '®', '\\x84', '¨', '-', '¼', 'w', 'J', '¡', 'ç', 'a', '¢', ']', 'c', '\\x8c', '|', '\\x99', '#', '`', 'u', '\\x93', '\\x80', 'y', 'º', 'Û', '\\x8e', '4', 'W', 'g', ':', '\\x8a', 'G', '½', 'x', 'æ', '\\x97', 'Y', '\\x8d', '2', 'ª', '+', '´', '9', 'M', 'j', '3', '\\x82', '\\x95', '¦', 'h', '¬', '_', 'B', '\\x85'}\n"
     ]
    },
    {
     "data": {
      "text/plain": [
       "178"
      ]
     },
     "execution_count": 32,
     "metadata": {},
     "output_type": "execute_result"
    }
   ],
   "source": [
    "# Assuming you have a DataFrame df with a column named 'column_name'\n",
    "unique_chars = set()\n",
    "\n",
    "# Iterate over each element in the column\n",
    "for value in df['Content']:\n",
    "    # Convert the value to string to handle non-string values\n",
    "    value_str = str(value)\n",
    "    # Iterate over each character in the value\n",
    "    for char in value_str:\n",
    "        # Add the character to the set of unique characters\n",
    "        unique_chars.add(char)\n",
    "\n",
    "# Print the unique characters\n",
    "print(\"Unique characters in the column:\", unique_chars)\n",
    "\n",
    "len(unique_chars)"
   ]
  },
  {
   "cell_type": "code",
   "execution_count": 53,
   "metadata": {},
   "outputs": [],
   "source": [
    "# Custom cleaning function\n",
    "def clean_text(text):\n",
    "    if isinstance(text, str):  # Check if the entry is a string\n",
    "        # Define additional characters to keep\n",
    "        additional_chars_to_keep = {'$', '€', '£', '¥', '0', '1', '2', '3', '4', '5', '6', '7', '8', '9', ',', '.'}\n",
    "        \n",
    "        # Remove unwanted characters while preserving spaces and money terms\n",
    "        cleaned_text = ''.join([char if (char.isprintable() and ord(char) < 128) or char in additional_chars_to_keep else ' ' for char in text])\n",
    "        return cleaned_text\n",
    "    else:\n",
    "        return str(text)  # Convert non-string entries to string\n",
    "\n",
    "# Apply the cleaning function to each entry in the text column\n",
    "df['Cleaned_text_column'] = df['Content'].apply(clean_text)"
   ]
  },
  {
   "cell_type": "code",
   "execution_count": 52,
   "metadata": {},
   "outputs": [
    {
     "data": {
      "text/html": [
       "<div>\n",
       "<style scoped>\n",
       "    .dataframe tbody tr th:only-of-type {\n",
       "        vertical-align: middle;\n",
       "    }\n",
       "\n",
       "    .dataframe tbody tr th {\n",
       "        vertical-align: top;\n",
       "    }\n",
       "\n",
       "    .dataframe thead th {\n",
       "        text-align: right;\n",
       "    }\n",
       "</style>\n",
       "<table border=\"1\" class=\"dataframe\">\n",
       "  <thead>\n",
       "    <tr style=\"text-align: right;\">\n",
       "      <th></th>\n",
       "      <th>Id</th>\n",
       "      <th>Title</th>\n",
       "      <th>Date</th>\n",
       "      <th>Link</th>\n",
       "      <th>Content</th>\n",
       "      <th>cleaned_text_column</th>\n",
       "    </tr>\n",
       "  </thead>\n",
       "  <tbody>\n",
       "    <tr>\n",
       "      <th>0</th>\n",
       "      <td>1.0</td>\n",
       "      <td>Football transfer rumours: Why Maguire's Man U...</td>\n",
       "      <td>Aug 15, 2023</td>\n",
       "      <td>https://www.90min.com/posts/football-transfer-...</td>\n",
       "      <td>90minÂ rounds up the latestÂ transfer news, ru...</td>\n",
       "      <td>90min  rounds up the latest  transfer news, ru...</td>\n",
       "    </tr>\n",
       "    <tr>\n",
       "      <th>1</th>\n",
       "      <td>2.0</td>\n",
       "      <td>Chelsea agree Romeo Lavia fee with Southampton</td>\n",
       "      <td>Aug 15, 2023</td>\n",
       "      <td>https://www.90min.com/posts/chelsea-agree-rome...</td>\n",
       "      <td>Chelsea have finalised an agreement with South...</td>\n",
       "      <td>Chelsea have finalised an agreement with South...</td>\n",
       "    </tr>\n",
       "    <tr>\n",
       "      <th>2</th>\n",
       "      <td>3.0</td>\n",
       "      <td>Harry Maguire's proposed West Ham transfer col...</td>\n",
       "      <td>Aug 15, 2023</td>\n",
       "      <td>https://www.90min.com/posts/harry-maguire-prop...</td>\n",
       "      <td>Harry Maguire's proposed transfer to West Ham ...</td>\n",
       "      <td>Harry Maguire's proposed transfer to West Ham ...</td>\n",
       "    </tr>\n",
       "    <tr>\n",
       "      <th>3</th>\n",
       "      <td>4.0</td>\n",
       "      <td>Southampton director breaks down Chelsea &amp; Liv...</td>\n",
       "      <td>Aug 15, 2023</td>\n",
       "      <td>https://www.90min.com/posts/southampton-direct...</td>\n",
       "      <td>Southampton director Jason Wilcox has revealed...</td>\n",
       "      <td>Southampton director Jason Wilcox has revealed...</td>\n",
       "    </tr>\n",
       "    <tr>\n",
       "      <th>4</th>\n",
       "      <td>5.0</td>\n",
       "      <td>Neymar completes move from PSG to Al Hilal</td>\n",
       "      <td>Aug 15, 2023</td>\n",
       "      <td>https://www.90min.com/posts/neymar-completes-m...</td>\n",
       "      <td>Saudi Pro League side Al Hilal have confirmed ...</td>\n",
       "      <td>Saudi Pro League side Al Hilal have confirmed ...</td>\n",
       "    </tr>\n",
       "  </tbody>\n",
       "</table>\n",
       "</div>"
      ],
      "text/plain": [
       "    Id                                              Title          Date  \\\n",
       "0  1.0  Football transfer rumours: Why Maguire's Man U...  Aug 15, 2023   \n",
       "1  2.0     Chelsea agree Romeo Lavia fee with Southampton  Aug 15, 2023   \n",
       "2  3.0  Harry Maguire's proposed West Ham transfer col...  Aug 15, 2023   \n",
       "3  4.0  Southampton director breaks down Chelsea & Liv...  Aug 15, 2023   \n",
       "4  5.0         Neymar completes move from PSG to Al Hilal  Aug 15, 2023   \n",
       "\n",
       "                                                Link  \\\n",
       "0  https://www.90min.com/posts/football-transfer-...   \n",
       "1  https://www.90min.com/posts/chelsea-agree-rome...   \n",
       "2  https://www.90min.com/posts/harry-maguire-prop...   \n",
       "3  https://www.90min.com/posts/southampton-direct...   \n",
       "4  https://www.90min.com/posts/neymar-completes-m...   \n",
       "\n",
       "                                             Content  \\\n",
       "0  90minÂ rounds up the latestÂ transfer news, ru...   \n",
       "1  Chelsea have finalised an agreement with South...   \n",
       "2  Harry Maguire's proposed transfer to West Ham ...   \n",
       "3  Southampton director Jason Wilcox has revealed...   \n",
       "4  Saudi Pro League side Al Hilal have confirmed ...   \n",
       "\n",
       "                                 cleaned_text_column  \n",
       "0  90min  rounds up the latest  transfer news, ru...  \n",
       "1  Chelsea have finalised an agreement with South...  \n",
       "2  Harry Maguire's proposed transfer to West Ham ...  \n",
       "3  Southampton director Jason Wilcox has revealed...  \n",
       "4  Saudi Pro League side Al Hilal have confirmed ...  "
      ]
     },
     "execution_count": 52,
     "metadata": {},
     "output_type": "execute_result"
    }
   ],
   "source": [
    "#df[\"cleaned_text_column\"].unique().tolist()\n",
    "df.head()"
   ]
  },
  {
   "cell_type": "code",
   "execution_count": 54,
   "metadata": {},
   "outputs": [
    {
     "name": "stdout",
     "output_type": "stream",
     "text": [
      "DataFrame saved to 90min_clean_data.csv\n"
     ]
    }
   ],
   "source": [
    "import pandas as pd\n",
    "\n",
    "# Create your DataFrame (replace this with your actual DataFrame)\n",
    "\n",
    "# Specify the file path where you want to save the CSV file\n",
    "file_path = '90min_clean_data.csv'\n",
    "\n",
    "# Save the DataFrame to a CSV file\n",
    "df.to_csv(file_path, index=False)  # Set index=False to exclude row numbers in the CSV file\n",
    "\n",
    "print(\"DataFrame saved to\", file_path)\n"
   ]
  }
 ],
 "metadata": {
  "kernelspec": {
   "display_name": "base",
   "language": "python",
   "name": "python3"
  },
  "language_info": {
   "codemirror_mode": {
    "name": "ipython",
    "version": 3
   },
   "file_extension": ".py",
   "mimetype": "text/x-python",
   "name": "python",
   "nbconvert_exporter": "python",
   "pygments_lexer": "ipython3",
   "version": "3.9.12"
  },
  "orig_nbformat": 4,
  "vscode": {
   "interpreter": {
    "hash": "56941cacf15e8b05765996006082865469347c2b4cdce983108d1335de8b4245"
   }
  }
 },
 "nbformat": 4,
 "nbformat_minor": 2
}
