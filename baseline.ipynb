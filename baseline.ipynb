{
 "cells": [
  {
   "cell_type": "code",
   "execution_count": 2,
   "metadata": {},
   "outputs": [
    {
     "ename": "",
     "evalue": "",
     "output_type": "error",
     "traceback": [
      "\u001b[1;31mThe Kernel crashed while executing code in the the current cell or a previous cell. Please review the code in the cell(s) to identify a possible cause of the failure. Click <a href='https://aka.ms/vscodeJupyterKernelCrash'>here</a> for more info. View Jupyter <a href='command:jupyter.viewOutput'>log</a> for further details."
     ]
    },
    {
     "ename": "",
     "evalue": "",
     "output_type": "error",
     "traceback": [
      "\u001b[1;31mCanceled future for execute_request message before replies were done"
     ]
    }
   ],
   "source": [
    "import numpy as np\n",
    "from tensorflow.keras import layers, models\n",
    "from sklearn.preprocessing import LabelEncoder\n",
    "from sklearn.metrics import classification_report\n",
    "from keras.preprocessing.sequence import pad_sequences\n",
    "\n",
    "# Load and preprocess data\n",
    "def load_data(filename):\n",
    "    sentences = []\n",
    "    labels = []\n",
    "    with open(filename, 'r') as f:\n",
    "        lines = f.readlines()\n",
    "        sentence = []\n",
    "        label = []\n",
    "        for line in lines:\n",
    "            if line == '\\n':\n",
    "                sentences.append(sentence)\n",
    "                labels.append(label)\n",
    "                sentence = []\n",
    "                label = []\n",
    "            else:\n",
    "                word, _, _, ner_tag = line.split()\n",
    "                sentence.append(word)\n",
    "                label.append(ner_tag)\n",
    "    return sentences, labels\n",
    "\n",
    "train_sentences, train_labels = load_data('en_ewt-ud-train.iob2')\n",
    "dev_sentences, dev_labels = load_data('en_ewt-ud-dev.iob2')\n",
    "\n",
    "# Encode labels\n",
    "label_encoder = LabelEncoder()\n",
    "label_encoder.fit(np.concatenate(train_labels))\n",
    "train_labels_encoded = [label_encoder.transform(seq) for seq in train_labels]\n",
    "dev_labels_encoded = [label_encoder.transform(seq) for seq in dev_labels]\n",
    "\n",
    "# Pad sequences\n",
    "max_seq_length = 100  # Adjust according to your data\n",
    "train_sentences_padded = pad_sequences(train_sentences, maxlen=max_seq_length, padding='post')\n",
    "dev_sentences_padded = pad_sequences(dev_sentences, maxlen=max_seq_length, padding='post')\n",
    "\n",
    "# Define model architecture\n",
    "vocab_size = len(word_index)  # Update with your vocabulary size\n",
    "embedding_dim = 100  # Adjust according to your embedding dimension\n",
    "num_labels = len(label_encoder.classes_)\n",
    "model = models.Sequential([\n",
    "    layers.Embedding(input_dim=vocab_size, output_dim=embedding_dim, input_length=max_seq_length),\n",
    "    layers.Bidirectional(layers.LSTM(units=128, return_sequences=True)),\n",
    "    layers.TimeDistributed(layers.Dense(num_labels, activation='softmax'))\n",
    "])\n",
    "\n",
    "# Compile the model\n",
    "model.compile(optimizer='adam', loss='sparse_categorical_crossentropy', metrics=['accuracy'])\n",
    "\n",
    "# Train the model\n",
    "model.fit(train_sentences_padded, np.array(train_labels_encoded), validation_data=(dev_sentences_padded, np.array(dev_labels_encoded)), epochs=10, batch_size=32)\n",
    "\n",
    "# Predict on dev set\n",
    "dev_predictions = model.predict(dev_sentences_padded)\n",
    "dev_predictions_labels = [label_encoder.inverse_transform(np.argmax(pred, axis=-1)) for pred in dev_predictions]\n",
    "\n",
    "# Flatten the predictions and true labels for evaluation\n",
    "dev_true_labels_flattened = [label for sublist in dev_labels for label in sublist]\n",
    "dev_predictions_flattened = [label for sublist in dev_predictions_labels for label in sublist]\n",
    "\n",
    "# Evaluate the model\n",
    "print(classification_report(dev_true_labels_flattened, dev_predictions_flattened))\n"
   ]
  }
 ],
 "metadata": {
  "kernelspec": {
   "display_name": "lsda",
   "language": "python",
   "name": "python3"
  },
  "language_info": {
   "codemirror_mode": {
    "name": "ipython",
    "version": 3
   },
   "file_extension": ".py",
   "mimetype": "text/x-python",
   "name": "python",
   "nbconvert_exporter": "python",
   "pygments_lexer": "ipython3",
   "version": "3.11.8 (main, Feb 26 2024, 15:43:17) [Clang 14.0.6 ]"
  },
  "orig_nbformat": 4,
  "vscode": {
   "interpreter": {
    "hash": "747c543035350f8bd1d72db6faabc89c9a22758c5be88e681e1fabdc34e2a0d3"
   }
  }
 },
 "nbformat": 4,
 "nbformat_minor": 2
}
